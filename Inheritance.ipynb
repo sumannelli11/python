{
 "cells": [
  {
   "cell_type": "markdown",
   "id": "521c36c4",
   "metadata": {},
   "source": [
    "Inheritance: New classes can inherit properties and behaviors from existing classes, promoting code reuse and extensibility."
   ]
  },
  {
   "cell_type": "markdown",
   "id": "9e15f96d",
   "metadata": {},
   "source": [
    "Allows you to create new classes (subclasses) that inherit properties and behaviors from existing classes (parent classes). This promotes code reuse and extensibility."
   ]
  },
  {
   "cell_type": "markdown",
   "id": "84862bbe",
   "metadata": {},
   "source": [
    "1. When there is a relationship between Parent class (Animal) and child (Dog) with inheritance\n",
    "2. If you create an child class object and made a call on it then it will check for the method inside child as first priority\n",
    "3. If the method not found on child then it will search for method in Parent"
   ]
  },
  {
   "cell_type": "markdown",
   "id": "87c44fa2",
   "metadata": {},
   "source": [
    "super is a keyword which referes the parent/super class"
   ]
  },
  {
   "cell_type": "markdown",
   "id": "1542f39a",
   "metadata": {},
   "source": [
    "Polymorphism: Objects of different classes can respond to the same method call in different ways, providing flexibility."
   ]
  },
  {
   "cell_type": "code",
   "execution_count": 14,
   "id": "44b863bc",
   "metadata": {},
   "outputs": [
    {
     "name": "stdout",
     "output_type": "stream",
     "text": [
      "scuby says Woof!\n"
     ]
    }
   ],
   "source": [
    "class Animal:\n",
    "  def __init__(self, name, age):\n",
    "    self.studentname = name\n",
    "    self.age = age\n",
    "    self.x = 1000\n",
    "  def make_sound(self):  # Example of polymorphism (base behavior)\n",
    "    print(\"Generic animal sound\")\n",
    "    # Any logic\n",
    "    \n",
    "\n",
    "class Dog(Animal):  # Inherits from Animal\n",
    "    \n",
    "  def __init__(self, name, age, breed):\n",
    "    super().__init__(name, age)  # Call parent class constructor using super()\n",
    "    \n",
    "    self.breed = breed\n",
    "\n",
    "  def make_sound(self):  # Override base behavior (polymorphism)\n",
    "    print(f\"{self.studentname} says Woof!\")\n",
    "    # different logic \n",
    "\n",
    "\n",
    "\n",
    "animal = Animal(\"Lury\", 5)\n",
    "animal.make_sound()\n",
    "\n"
   ]
  },
  {
   "cell_type": "code",
   "execution_count": null,
   "id": "d651b4a6",
   "metadata": {},
   "outputs": [],
   "source": [
    "# method overriding\n",
    "If you have same method names "
   ]
  }
 ],
 "metadata": {
  "kernelspec": {
   "display_name": "Python 3 (ipykernel)",
   "language": "python",
   "name": "python3"
  },
  "language_info": {
   "codemirror_mode": {
    "name": "ipython",
    "version": 3
   },
   "file_extension": ".py",
   "mimetype": "text/x-python",
   "name": "python",
   "nbconvert_exporter": "python",
   "pygments_lexer": "ipython3",
   "version": "3.7.16"
  }
 },
 "nbformat": 4,
 "nbformat_minor": 5
}
