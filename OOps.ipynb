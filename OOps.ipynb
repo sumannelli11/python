{
 "cells": [
  {
   "cell_type": "code",
   "execution_count": null,
   "id": "cd469eff",
   "metadata": {},
   "outputs": [],
   "source": [
    "OOPS object oriented programig language"
   ]
  },
  {
   "cell_type": "markdown",
   "id": "fb3a0c9e",
   "metadata": {},
   "source": [
    "\n",
    "1. Classes and Objects:\n",
    "\n",
    "Classes: A blueprint for creating objects. It defines the attributes (data) and methods (behaviors) that all objects of that class will share. Use the class keyword to define a class."
   ]
  },
  {
   "cell_type": "code",
   "execution_count": null,
   "id": "eabceb37",
   "metadata": {},
   "outputs": [],
   "source": []
  },
  {
   "cell_type": "markdown",
   "id": "2eae0806",
   "metadata": {},
   "source": [
    "# variables are nothing  but data . behaviour is abour your logic /function"
   ]
  },
  {
   "cell_type": "markdown",
   "id": "6f92e613",
   "metadata": {},
   "source": [
    "Benefits of OOP:\n",
    "\n",
    "Modularization: Code is organized into well-defined classes, promoting reusability and maintainability.\n",
    "\n",
    "Encapsulation: Data is protected within objects, controlling access and preventing unintended modifications.\n",
    "\n",
    "Inheritance: New classes can inherit properties and behaviors from existing classes, promoting code reuse and extensibility.\n",
    "\n",
    "Polymorphism: Objects of different classes can respond to the same method call in different ways, providing flexibility."
   ]
  },
  {
   "cell_type": "markdown",
   "id": "5a6e0a62",
   "metadata": {},
   "source": [
    "# object : is  an entity which represent real world state and behaviour\n",
    "# class : Collection of objects and it's logical entity"
   ]
  },
  {
   "cell_type": "code",
   "execution_count": 37,
   "id": "a191c53f",
   "metadata": {},
   "outputs": [],
   "source": [
    "class test:\n",
    "    ax = 10\n",
    "    ay = 100\n",
    "    def cal_perc(self):\n",
    "        print(\"calcuate percentage\")\n",
    "x = test()\n",
    "    "
   ]
  },
  {
   "cell_type": "code",
   "execution_count": 38,
   "id": "8a57c104",
   "metadata": {},
   "outputs": [
    {
     "name": "stdout",
     "output_type": "stream",
     "text": [
      "10\n"
     ]
    }
   ],
   "source": [
    "print(x.ax)"
   ]
  },
  {
   "cell_type": "code",
   "execution_count": 39,
   "id": "dbf1debd",
   "metadata": {},
   "outputs": [
    {
     "name": "stdout",
     "output_type": "stream",
     "text": [
      "100\n"
     ]
    }
   ],
   "source": [
    "print(x.ay)"
   ]
  },
  {
   "cell_type": "code",
   "execution_count": 40,
   "id": "ddecf9b5",
   "metadata": {},
   "outputs": [
    {
     "name": "stdout",
     "output_type": "stream",
     "text": [
      "calcuate percentage\n"
     ]
    }
   ],
   "source": [
    "x.cal_perc()"
   ]
  },
  {
   "cell_type": "code",
   "execution_count": 5,
   "id": "daf33203",
   "metadata": {
    "scrolled": true
   },
   "outputs": [
    {
     "ename": "NameError",
     "evalue": "name 'x' is not defined",
     "output_type": "error",
     "traceback": [
      "\u001b[1;31m---------------------------------------------------------------------------\u001b[0m",
      "\u001b[1;31mNameError\u001b[0m                                 Traceback (most recent call last)",
      "\u001b[1;32m~\\AppData\\Local\\Temp\\ipykernel_26208\\32546335.py\u001b[0m in \u001b[0;36m<module>\u001b[1;34m\u001b[0m\n\u001b[1;32m----> 1\u001b[1;33m \u001b[0mx\u001b[0m\u001b[1;33m\u001b[0m\u001b[1;33m\u001b[0m\u001b[0m\n\u001b[0m",
      "\u001b[1;31mNameError\u001b[0m: name 'x' is not defined"
     ]
    }
   ],
   "source": [
    "x"
   ]
  },
  {
   "cell_type": "code",
   "execution_count": null,
   "id": "5c855c42",
   "metadata": {},
   "outputs": [],
   "source": []
  },
  {
   "cell_type": "markdown",
   "id": "ed5ce054",
   "metadata": {},
   "source": [
    "# modularization:\n",
    "\n",
    "class class_name:\n",
    "    x = 10\n",
    "print(x)\n"
   ]
  },
  {
   "cell_type": "markdown",
   "id": "86987458",
   "metadata": {},
   "source": [
    "Object creation\n",
    "class x:\n",
    "    attributes, method\n",
    "x()."
   ]
  },
  {
   "cell_type": "code",
   "execution_count": 10,
   "id": "02f66493",
   "metadata": {},
   "outputs": [
    {
     "name": "stdout",
     "output_type": "stream",
     "text": [
      "random red\n"
     ]
    }
   ],
   "source": [
    "class Animal:\n",
    "    shape = \"random\"\n",
    "    color = \"red\"\n",
    "    \n",
    "x = Animal()\n",
    "\n",
    "print(x.shape, x.color)"
   ]
  },
  {
   "cell_type": "code",
   "execution_count": 1,
   "id": "1d154192",
   "metadata": {},
   "outputs": [],
   "source": [
    "class Dog:\n",
    "  def __init__(self, name, breed):  # Constructor (special method for initializing objects)\n",
    "    self.name = name\n",
    "    self.breed = breed\n",
    "\n",
    "  def bark(self):  # Method to define dog's barking behavior\n",
    "    print(f\"{self.name} says Woof!\")\n"
   ]
  },
  {
   "cell_type": "markdown",
   "id": "a68b85b4",
   "metadata": {},
   "source": [
    "Objects: An instance of a class. It holds specific values for the attributes defined in the class. You create objects using the class name followed by parentheses"
   ]
  },
  {
   "cell_type": "code",
   "execution_count": 2,
   "id": "a328ddd5",
   "metadata": {},
   "outputs": [],
   "source": [
    "fido = Dog(\"Fido\", \"Labrador\")\n",
    "buddy = Dog(\"Buddy\", \"Golden Retriever\")\n"
   ]
  },
  {
   "cell_type": "markdown",
   "id": "3afa63ae",
   "metadata": {},
   "source": [
    "2. Attributes:\n",
    "\n",
    "Represent the properties or characteristics of an object. They are defined within the class and assigned values when creating an object.\n",
    "\n",
    "In the Dog class example, name and breed are attributes.\n",
    "\n",
    "3. Methods:\n",
    "\n",
    "Define the behavior of an object. They are functions associated with a class that operate on the object's data (attributes).\n",
    "\n",
    "The bark() method in the Dog class demonstrates a method.\n",
    "\n",
    "4. Inheritance:\n",
    "\n",
    "Allows you to create new classes (subclasses) that inherit properties and behaviors from existing classes (parent classes). This promotes code reuse and extensibility."
   ]
  },
  {
   "cell_type": "code",
   "execution_count": 3,
   "id": "6683ec50",
   "metadata": {},
   "outputs": [],
   "source": [
    "class Animal:\n",
    "  def __init__(self, name, age):\n",
    "    self.name = name\n",
    "    self.age = age\n",
    "\n",
    "  def make_sound(self):  # Example of polymorphism (base behavior)\n",
    "    print(\"Generic animal sound\")\n",
    "\n",
    "class Dog(Animal):  # Inherits from Animal\n",
    "  def __init__(self, name, age, breed):\n",
    "    super().__init__(name, age)  # Call parent class constructor using super()\n",
    "    self.breed = breed\n",
    "\n",
    "  def make_sound(self):  # Override base behavior (polymorphism)\n",
    "    print(f\"{self.name} says Woof!\")\n"
   ]
  },
  {
   "cell_type": "code",
   "execution_count": null,
   "id": "7e4e4852",
   "metadata": {},
   "outputs": [],
   "source": []
  }
 ],
 "metadata": {
  "kernelspec": {
   "display_name": "Python 3 (ipykernel)",
   "language": "python",
   "name": "python3"
  },
  "language_info": {
   "codemirror_mode": {
    "name": "ipython",
    "version": 3
   },
   "file_extension": ".py",
   "mimetype": "text/x-python",
   "name": "python",
   "nbconvert_exporter": "python",
   "pygments_lexer": "ipython3",
   "version": "3.7.16"
  }
 },
 "nbformat": 4,
 "nbformat_minor": 5
}
